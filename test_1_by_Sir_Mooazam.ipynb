{
  "cells": [
    {
      "cell_type": "code",
      "execution_count": null,
      "metadata": {
        "colab": {
          "base_uri": "https://localhost:8080/"
        },
        "id": "aR0SGYHBbz1M",
        "outputId": "b19d0e3c-9b86-4f28-c94f-85c8017b871d"
      },
      "outputs": [
        {
          "output_type": "stream",
          "name": "stdout",
          "text": [
            "[1, 3, 5, 7, 9]\n"
          ]
        }
      ],
      "source": [
        "#Q1) Python program to print all odd numbers in a list.\n",
        "\n",
        "list1 = [1, 2, 3, 4, 5, 6, 7, 8, 9, 10]\n",
        "final = []\n",
        "for i in range(len(list1)):\n",
        "  if i%2!=0:\n",
        "    final.append(i)\n",
        "  else:\n",
        "    pass\n",
        "print(final)\n"
      ]
    },
    {
      "cell_type": "code",
      "execution_count": 7,
      "metadata": {
        "colab": {
          "base_uri": "https://localhost:8080/"
        },
        "id": "k3gg_YRPcQvK",
        "outputId": "05c667a0-e040-4f97-e14c-b94252bb46a3"
      },
      "outputs": [
        {
          "output_type": "stream",
          "name": "stdout",
          "text": [
            "16\n"
          ]
        }
      ],
      "source": [
        "#Q2) Python program to find the sum of list elements.\n",
        "\n",
        "list1 = [1,3,5,7]\n",
        "var =sum(list1)\n",
        "print(var)\n",
        "\n"
      ]
    },
    {
      "cell_type": "code",
      "execution_count": 9,
      "metadata": {
        "colab": {
          "base_uri": "https://localhost:8080/"
        },
        "id": "RF3ueMmccUgp",
        "outputId": "144995d6-e49b-47a8-d7c2-1f8fca49eb3f"
      },
      "outputs": [
        {
          "output_type": "stream",
          "name": "stdout",
          "text": [
            "['civic', 'honda', 'audi']\n",
            "['civic', 'honda', 'audi']\n"
          ]
        }
      ],
      "source": [
        "#Q3) Python program to reverse a list in two ways.\n",
        "\n",
        "cars  = ['audi','honda', 'civic']\n",
        "cars.reverse()\n",
        "print(cars)\n",
        "cars[-1: : -1]\n",
        "print(cars)\n"
      ]
    },
    {
      "cell_type": "code",
      "execution_count": 8,
      "metadata": {
        "colab": {
          "base_uri": "https://localhost:8080/"
        },
        "id": "ncBEnmyOcXtS",
        "outputId": "6bcc6325-619f-44e9-e55d-91c14004807a"
      },
      "outputs": [
        {
          "output_type": "stream",
          "name": "stdout",
          "text": [
            "80\n",
            "60\n"
          ]
        }
      ],
      "source": [
        "'''Q4) Python program to find the top two maximum\n",
        "numbers in a list.'''\n",
        "list1 = [20,10, 80, 60]\n",
        "list1.sort()\n",
        "print(list1[-1])\n",
        "print(list1[-2])\n",
        "\n"
      ]
    },
    {
      "cell_type": "code",
      "execution_count": 15,
      "metadata": {
        "colab": {
          "base_uri": "https://localhost:8080/"
        },
        "id": "8096mm3UccvJ",
        "outputId": "7164bd4b-8901-4728-d7f3-1a3966fd5202"
      },
      "outputs": [
        {
          "output_type": "stream",
          "name": "stdout",
          "text": [
            "15\n"
          ]
        }
      ],
      "source": [
        "'''Q5) Write a program in Python to find the second highest\n",
        "number in an integer list.'''\n",
        "\n",
        "list1 = [10, 5, 2, 20,15]\n",
        "list1.sort()\n",
        "print(list1[-2])\n"
      ]
    },
    {
      "cell_type": "code",
      "execution_count": null,
      "metadata": {
        "colab": {
          "base_uri": "https://localhost:8080/"
        },
        "id": "bq9nm6J8ch5B",
        "outputId": "f556db98-ce9a-4b2f-de7f-a8f73394f56d"
      },
      "outputs": [
        {
          "output_type": "stream",
          "name": "stdout",
          "text": [
            "['asad', 'kashif', 'talha', 'zubair']\n",
            "['zubair', 'talha', 'kashif', 'asad']\n"
          ]
        }
      ],
      "source": [
        "'''Q6) Python program to sort characters in descending\n",
        "order.'''\n",
        "\n",
        "names = ['asad', 'zubair', 'talha', 'kashif']\n",
        "names.sort()\n",
        "print(names)\n",
        "names.sort(reverse= True)\n",
        "print(names)\n",
        "\n"
      ]
    },
    {
      "cell_type": "code",
      "execution_count": 1,
      "metadata": {
        "colab": {
          "base_uri": "https://localhost:8080/"
        },
        "id": "S53Fhfvgcm4J",
        "outputId": "11e38c52-d63b-44dd-b30b-45466aa5a8a1"
      },
      "outputs": [
        {
          "output_type": "stream",
          "name": "stdout",
          "text": [
            "enter any name:abbyaan\n",
            "['a', 'b', 'y', 'n']\n"
          ]
        }
      ],
      "source": [
        "'''Q7) Python program to remove repeated characters from a\n",
        "string.'''\n",
        "\n",
        "name = input('enter any name:')\n",
        "\n",
        "new_list = []\n",
        "for a in name:\n",
        "  if a not in new_list:\n",
        "    new_list.append(a)\n",
        "print(new_list)"
      ]
    },
    {
      "cell_type": "code",
      "execution_count": null,
      "metadata": {
        "colab": {
          "base_uri": "https://localhost:8080/"
        },
        "id": "UxjFbYiCcxpQ",
        "outputId": "e7a76d01-fdd8-4ead-bd26-dd354548e773"
      },
      "outputs": [
        {
          "output_type": "stream",
          "name": "stdout",
          "text": [
            "Input a letter of the alphabet: e\n",
            "e is a vowel.\n"
          ]
        }
      ],
      "source": [
        "'''Q8) Python program to check if a given character is a\n",
        "vowel or consonant.'''\n",
        "\n",
        "l = input(\"Input a letter of the alphabet: \")\n",
        "\n",
        "if l in ('a', 'e', 'i', 'o', 'u'):\n",
        "\tprint(l,\"is a vowel.\")\n",
        "else:\n",
        "\tprint(l, \"is a consonant.\") \n",
        "\t"
      ]
    },
    {
      "cell_type": "code",
      "execution_count": null,
      "metadata": {
        "colab": {
          "base_uri": "https://localhost:8080/"
        },
        "id": "ej9MOgEuc064",
        "outputId": "ff7ccb1b-dea4-426d-b830-f08673bc9f68"
      },
      "outputs": [
        {
          "output_type": "stream",
          "name": "stdout",
          "text": [
            "enter number:6\n",
            "The factorial of 6 is 720\n"
          ]
        }
      ],
      "source": [
        "#Q9) Python Program to calculate factorial.\n",
        "\n",
        "num = int(input('enter number:'))\n",
        "factorial = 1\n",
        "if num < 0:\n",
        "  print(\"Sory, factorial does not exit for negative numbers\")\n",
        "elif num == 0:\n",
        "  print(\"The factorial of 0 is 1\")\n",
        "else:\n",
        "  for i in range(1,num + 1):\n",
        "   factorial = factorial*i\n",
        "  print(\"The factorial of\", num, \"is\", factorial)\n"
      ]
    },
    {
      "cell_type": "code",
      "execution_count": null,
      "metadata": {
        "colab": {
          "base_uri": "https://localhost:8080/"
        },
        "id": "7FEtirs3c7to",
        "outputId": "af5ad654-6148-485b-b62b-ce24d95ed2bd"
      },
      "outputs": [
        {
          "name": "stdout",
          "output_type": "stream",
          "text": [
            "[2, 4, 6, 4, 5, 8]\n"
          ]
        }
      ],
      "source": [
        "#Q10) Python Program to merge two lists.\n",
        "\n",
        "list1 = [2, 4, 6] \n",
        "list2 = [4, 5, 8]\n",
        "list3 = list1 + list2\n",
        "print(list3)\n"
      ]
    }
  ],
  "metadata": {
    "colab": {
      "name": "test 1 by Sir Mooazam",
      "provenance": []
    },
    "kernelspec": {
      "display_name": "Python 3",
      "name": "python3"
    },
    "language_info": {
      "name": "python"
    }
  },
  "nbformat": 4,
  "nbformat_minor": 0
}